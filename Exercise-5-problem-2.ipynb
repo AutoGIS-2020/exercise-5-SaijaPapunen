{
 "cells": [
  {
   "cell_type": "markdown",
   "metadata": {},
   "source": [
    "# Problem 2: Visualize an interactive map (10 points)\n",
    "\n",
    "Create a nice interactive map using the skills you leared in lesson 5: interactive maps using Folium (or some other suitable package - feel free to experiment!). Write your code into a notebook file (.ipynb) or a python script file (.py) and store the output map(s) in .html format under the docs folder.\n",
    "\n",
    "Topic of the map:\n",
    "\n",
    "    You can select the topic of the map freely.\n",
    "    This map should not be only an interactive version of your submission for problem 1 ;). Create something new!\n",
    "    Feel free to adapt examples provided in this course!\n",
    "\n",
    "Criteria:\n",
    "\n",
    "    The map should have multiple layers on it and/or present an output of (simple) data analysis (something beyond plotting raw data on a map).\n",
    "    Consider good cartographic practices\n",
    "    The map should demonstrate skills learned during lesson 5: interactive maps and throughout this course. You can also take advantage of the Folium example gallery for further ideas.\n",
    "    Think about including additional interactive elements, such as popup text in the map.\n",
    "\n",
    "Output:\n",
    "\n",
    "    Remember to commit the code and input data (or at least a link to input data)\n",
    "    Save your map(s) in .html format in the docs folder\n"
   ]
  },
  {
   "cell_type": "code",
   "execution_count": null,
   "metadata": {},
   "outputs": [],
   "source": []
  }
 ],
 "metadata": {
  "kernelspec": {
   "display_name": "Python 3",
   "language": "python",
   "name": "python3"
  },
  "language_info": {
   "codemirror_mode": {
    "name": "ipython",
    "version": 3
   },
   "file_extension": ".py",
   "mimetype": "text/x-python",
   "name": "python",
   "nbconvert_exporter": "python",
   "pygments_lexer": "ipython3",
   "version": "3.8.6"
  }
 },
 "nbformat": 4,
 "nbformat_minor": 4
}
